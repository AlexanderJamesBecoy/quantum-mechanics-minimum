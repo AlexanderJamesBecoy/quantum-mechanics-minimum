{
 "cells": [
  {
   "cell_type": "code",
   "execution_count": 1,
   "metadata": {},
   "outputs": [],
   "source": [
    "import numpy as np"
   ]
  },
  {
   "cell_type": "markdown",
   "metadata": {},
   "source": [
    "# Lecture 1 - Systems and Experiments"
   ]
  },
  {
   "cell_type": "markdown",
   "metadata": {},
   "source": [
    "## 1.2 Spins and Qubits\n",
    "\n",
    "- Concept of _spin_ is derived from particle physics &mdash; an additional property, an extra degree of freedom.\n",
    "    - A naive representation of spin is an arrow pointing in some direction &mdash; this is too classical.\n",
    "- The isolated quantum spin is an example of the general class of simple systems called _qubits_ (aka quantum bits).\n",
    "    - This plays the same role in the quantum world as logical bits in defining the state of a traditional computer."
   ]
  },
  {
   "cell_type": "markdown",
   "metadata": {},
   "source": [
    "## 1.3 An Experiment\n",
    "\n",
    "TBR"
   ]
  },
  {
   "cell_type": "markdown",
   "metadata": {},
   "source": [
    "## 1.4 Experiments Are Never Gentle"
   ]
  },
  {
   "cell_type": "markdown",
   "metadata": {},
   "source": [
    "## 1.5 Propositions"
   ]
  },
  {
   "cell_type": "markdown",
   "metadata": {},
   "source": [
    "## 1.6 Testing Classical Propositions"
   ]
  },
  {
   "cell_type": "markdown",
   "metadata": {},
   "source": [
    "## 1.7 Testing Quantum Propositions"
   ]
  },
  {
   "cell_type": "markdown",
   "metadata": {},
   "source": [
    "## 1.9 Mathematical Interlude: Vector Spaces"
   ]
  },
  {
   "cell_type": "markdown",
   "metadata": {},
   "source": [
    "### 1.9.1 Axioms\n",
    "\n",
    "- The space of states of a quantum system $\\neq$ a mathematical &mdash; it is a _vector space_.\n",
    "- The vector spaces used to define quantum mechanical states are called _Hilbert space_.\n",
    "    - A Hilbert space may have either a finite or an infinite number of dimensions.\n",
    "- In quantum mechanics, a vector space is composed of elements $|A\\rangle$ &mdash; called _ket-vectors_ or just _kets_.\n",
    "- Axioms used to define the vector space of states of a quantum system ($z$ and $w$ are complex numbers):\n",
    "    1. The sum of any two ket-vectors is also a ket-vector:\n",
    "        $$|A\\rangle + |B\\rangle = |C\\rangle$$\n",
    "    2. Vector addition is commutatitve:\n",
    "        $$|A\\rangle + |B\\rangle = |B\\rangle + |A\\rangle$$\n",
    "    3. Vector addition is associative:\n",
    "        $$\\{|A\\rangle + |B\\rangle\\} + |C\\rangle = |A\\rangle + \\{|B\\rangle + |C\\rangle\\}$$\n",
    "    4. There is a unique vector $0$ such that when you add it to any ket, it gives the same ket:\n",
    "        $$|A\\rangle + 0 = |A\\rangle$$\n",
    "    5. Given any ket, there is a unique ket $-|A\\rangle$ such that\n",
    "        $$|A\\rangle + (-|A\\rangle) = 0\n",
    "    6. Given any ket $|A\\rangle$ and any complex number $z$, you can multiply them to get any new ket. Multiplication by a scalar is linear:\n",
    "        $$|zA\\rangle = z|A\\rangle = |B\\rangle$$\n",
    "    7. The distributive property holds:\n",
    "        $$\n",
    "        z\\{|A\\rangle + |B\\rangle\\} = z|A\\rangle + z|B\\rangle \\\\\n",
    "        \\{z + w\\}|A\\rangle = z|A\\rangle + w|A\\rangle\n",
    "        $$\n",
    "- Axioms 6 and 7 &mdash; _linearity_.\n",
    "- Ordinary 3-vectors would satisfy these axioms except that _Axiom 6 allows a vector to be multiplied by any complex number_.\n",
    "    -  Multiplication of ordinary 3-vectors by complex numbers is not defined.\n"
   ]
  },
  {
   "cell_type": "markdown",
   "metadata": {},
   "source": [
    "### 1.9.2 Functions and Column Vectors\n",
    "\n",
    "- One example, consider the set of continuous complex-valued functions of a variable $x$ &mdash; call the functions $A(x)$.\n",
    "    - Can add any two such functions and multiply them by complex numbers.\n",
    "    - Can check that they satisfy all seven axioms.\n",
    "- Another example, two-dimensional column vectors constructed by stacking up a pair of complex numbers $\\alpha_1$ and $\\alpha_2$:\n",
    "    $$ \\begin{pmatrix} \\alpha_1 \\\\ \\alpha_2 \\end{pmatrix} $$\n",
    "    - Identify this \"stack\" with the ket-vector $|A\\rangle$ &mdash; the complex numbers $\\alpha$ are the components of $|A\\rangle$.\n",
    "    - Can add two column vectors by adding their components:\n",
    "        $$ \\begin{pmatrix} \\alpha_1 \\\\ \\alpha_2 \\end{pmatrix} + \\begin{pmatrix} \\beta_1 \\\\ \\beta_2 \\end{pmatrix} = \\begin{pmatrix} \\alpha_1 + \\beta_1 \\\\ \\alpha_2 + \\beta_2 \\end{pmatrix} $$\n",
    "    - Can multiply the column vector by a complex number $z$:\n",
    "        $$ z\\begin{pmatrix} \\alpha_1 \\\\ \\alpha_2 \\end{pmatrix} = \\begin{pmatrix} z\\alpha_1 \\\\ z\\alpha_2 \\end{pmatrix} $$\n",
    "    - Column vector spaces of any number of dimensions can be constructed e.g. a five-dimensional column vector.\n",
    "        - Formally, we do not mix vectors of different dimensionality."
   ]
  },
  {
   "cell_type": "markdown",
   "metadata": {},
   "source": [
    "### 1.9.3 Bras and Kets\n",
    "\n",
    "- Complex numbers have a dual version &mdash; _conjugate numbers_.\n",
    "    - Similarly, complex vector space has a dual version that is essentially the complex conjugate vector space.\n",
    "    - Therefore, every _ket_ $|A\\rangle$ has a _bra_ in the dual space denoted by $\\langle A|$,\n",
    "- Fun fact: The inner product of a bra and a ket, $\\langle B | A\\rangle $ forms _bra-kets_ or brackets.\n",
    "    - Inner products are extremely important in the mathematical machinery of quantum mechanics, and for characterizing vector spaces in general.\n",
    "- Bra vectors satisfy the same axioms as the ket-vectors, but keep in mind about the correspondence between the kets and bras:\n",
    "    1. Suppose $\\langle A|$ is the bra corresponding to the ket $|A\\rangle$, and $\\langle A|$ is the bra corresponding to the ket $|B\\rangle$. Then the bra corresponding to $ |A|\\rangle + |B\\rangle$ is:\n",
    "        $$ \\langle A | + \\langle B | $$\n",
    "    2. If $z$ is a complex number, then the bra corresponding to $z|A\\rangle$ is:\n",
    "        $$ \\langle A | z^*$$\n",
    "- In the example where kets are represented by column vectors, the dual bras are represented by row vectors with the entries being drawn from the complex conjugate numbers.\n",
    "    - If the ket $|A\\rangle$ is represented by the column:\n",
    "        $$ \\begin{pmatrix} \\alpha_1 \\\\ \\alpha_2 \\\\ \\alpha_3 \\\\ \\alpha_4 \\\\ \\alpha_5 \\end{pmatrix} $$\n",
    "    - Then the corresponding bra $\\langle A|$ is represented by the row:\n",
    "        $$ \\begin{pmatrix} \\alpha_1^* & \\alpha_2^* & \\alpha_3^* & \\alpha_4^* & \\alpha_5^* \\end{pmatrix} $$"
   ]
  },
  {
   "cell_type": "markdown",
   "metadata": {},
   "source": [
    "### 1.9.4 Inner Products\n",
    "\n",
    "- The analogous operation of dot product for bras and kets &mdash; _inner products_.\n",
    "    $$ \\langle B | A\\rangle $$\n",
    "    - The result is a complex number.\n",
    "- Axioms for inner products:\n",
    "    1. They are linear:\n",
    "        $$ \\langle C | \\{ | A\\rangle + |B\\rangle \\} = \\langle C|A\\rangle + \\langle C | B \\rangle $$\n",
    "    2. Interchanging bras and kets corresponds to complex conjugation:\n",
    "        $$ \\langle B | A \\rangle = \\langle A | B \\rangle^*$$"
   ]
  },
  {
   "cell_type": "markdown",
   "metadata": {},
   "source": [
    "**Exercise 1.1:**\n",
    "\n",
    "a) Using the axioms for inner products, prove $\\{\\langle \\mathbf A | + \\langle \\mathbf B|\\} |\\mathbf C\\rangle = \\langle \\mathbf A | \\mathbf C\\rangle + \\langle \\mathbf B | \\mathbf C\\rangle $\n",
    "\n",
    "- Using Axiom 1 of Inner Product\n",
    "\n",
    "b) Prove $\\langle \\mathbf A | \\mathbf A \\rangle$ is a real number\n",
    "\n",
    "- Consider $ \\mathbf | A \\rangle = \\begin{pmatrix} \\alpha \\end{pmatrix}$, where $\\alpha$ is a complex number $\\alpha = a + bi$.\n",
    "- $\\langle A| = \\begin{pmatrix} \\alpha^* \\end{pmatrix}$.\n",
    "- Therefore, $\\langle \\mathbf A | \\mathbf A \\rangle = \\alpha^* \\alpha = (a - bi)(a + bi) = a^2 + b^2 i (-i) = a^2 + b^2 \\in \\R$ "
   ]
  },
  {
   "cell_type": "markdown",
   "metadata": {},
   "source": [
    "- Using the inner products, we can define some concepts that are familiar from ordinary 3-vectors:\n",
    "    - _Normalized Vector_. A vector is said to be normalized if its inner product with itself is $1$. It should satisfy:\n",
    "        $$ \\langle A | A \\rangle = 1 $$\n",
    "    - _Orthogonal Vector_. Two vectors are said to be orthogonal if their inner product is zero. $|A\\rangle$ and $|B\\rangle$ are orthognal if:\n",
    "        $$ \\langle B | A \\rangle = 0 $$"
   ]
  },
  {
   "cell_type": "markdown",
   "metadata": {},
   "source": [
    "### 1.9.5 Orthonormal Bases\n",
    "\n",
    "- It is extremely useful to introduce a set of three mutually orthogonal unit vectors, and use them as a basis to construct any vector.\n",
    "    - E.g. the unit 3-vectors pointing along the $x$, $y$, and $z$ axes &mdash; usually called $\\hat i$, $\\hat j$, and $\\hat k$.\n",
    "    - Each is of unit length and orthogonal to the others.\n",
    "- The dimension of a space can be defined as the maximum number of mutually orthogonal vectors in some space.\n",
    "- As long as the basis vectors are of unit length and are mutually orthogonal &mdash; they comprise an _orthonormal basis_.\n",
    "    - Same principle is true for complex vector spaces.\n",
    "- Consider an $N$-dimensional space and a particular orthonormal basis of ket-vectors labeled $|i\\rangle$.\n",
    "    - _NOTE_: Mathematically, basis vectors are not required to be orthonormal. However, in quantum mechanics they generally are.\n",
    "    - The label $i$ runs from $1$ to $N$, consider a vector $|A\\rangle$ then it can be written as a sum of basis vectors:\n",
    "        $$ |A\\rangle = \\sum_i \\alpha_i |i\\rangle $$\n",
    "        - $\\alpha_i$ are complex numbers called the _components_ of the vector.\n",
    "    - To calculate them, we take the inner product of both sides with a basis bra $\\langle j|$:\n",
    "        $$ \\langle j | A \\rangle = \\sum_i \\alpha_i \\langle j | i \\rangle $$\n",
    "        - We use the fact that the basis vectors are orthonormal, this implies that $\\langle j | i \\rangle = 0$ if $i$ is not equal to $j$, and $\\langle j | i \\rangle = 1$ if $i = j$.\n",
    "            $$ \\langle j | i \\rangle = \\delta_{ij}$$\n",
    "    - Therefore: \n",
    "        $$ \\langle j | A \\rangle = \\alpha_j $$\n",
    "    - The components of a vector are just its inner products with the basis vectors. An elegant form:\n",
    "        $$ |A\\rangle = \\sum_i |i\\rangle\\langle i | A \\rangle $$"
   ]
  },
  {
   "cell_type": "markdown",
   "metadata": {},
   "source": []
  }
 ],
 "metadata": {
  "kernelspec": {
   "display_name": "Python 3",
   "language": "python",
   "name": "python3"
  },
  "language_info": {
   "codemirror_mode": {
    "name": "ipython",
    "version": 3
   },
   "file_extension": ".py",
   "mimetype": "text/x-python",
   "name": "python",
   "nbconvert_exporter": "python",
   "pygments_lexer": "ipython3",
   "version": "3.8.10"
  },
  "orig_nbformat": 4
 },
 "nbformat": 4,
 "nbformat_minor": 2
}
